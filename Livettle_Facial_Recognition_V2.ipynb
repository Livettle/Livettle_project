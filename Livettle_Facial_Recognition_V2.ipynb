{
  "cells": [
    {
      "cell_type": "markdown",
      "metadata": {
        "id": "view-in-github",
        "colab_type": "text"
      },
      "source": [
        "<a href=\"https://colab.research.google.com/github/Livettle/Livettle_project/blob/facial-recognition-v2/Livettle_Facial_Recognition_V2.ipynb\" target=\"_parent\"><img src=\"https://colab.research.google.com/assets/colab-badge.svg\" alt=\"Open In Colab\"/></a>"
      ]
    },
    {
      "cell_type": "code",
      "execution_count": null,
      "metadata": {
        "colab": {
          "base_uri": "https://localhost:8080/"
        },
        "id": "BTotYzYOF2-T",
        "outputId": "cd568e36-0981-4135-b721-81fb0c8bc177"
      },
      "outputs": [
        {
          "name": "stdout",
          "output_type": "stream",
          "text": [
            "Mounted at /content/drive\n",
            "File extracted successfully\n"
          ]
        }
      ],
      "source": [
        "# import zipfile\n",
        "# from google.colab import drive\n",
        "\n",
        "# # First, mount your Google Drive to Colab\n",
        "# drive.mount('/content/drive')\n",
        "\n",
        "# # Then, specify the path to your file in your Google Drive\n",
        "# file_path = \"/content/drive/MyDrive/FacialRecognition/archive.zip\"\n",
        "\n",
        "# # Finally, read in your file using ZipFile module\n",
        "# with zipfile.ZipFile(file_path, 'r') as zip_ref:\n",
        "#     zip_ref.extractall(\"/content/dataset/\")\n",
        "  \n",
        "# print(\"File extracted successfully\")\n",
        "\n",
        "# import os\n",
        "# import zipfile\n",
        "# import gdown\n",
        "\n",
        "# # Create the directory if it doesn't exist\n",
        "# if not os.path.exists('/content/dataset'):\n",
        "#     os.makedirs('/content/dataset')\n",
        "\n",
        "# # Download the file from Google Drive\n",
        "# url = 'https://drive.google.com/uc?id=1HxyOHQNTGwRlt8mROVB-kkbL8WrrABWC'\n",
        "# output = '/content/dataset/archive.zip'\n",
        "# gdown.download(url, output, quiet=False)\n",
        "\n",
        "# # Extract the file\n",
        "# with zipfile.ZipFile(output, 'r') as zip_ref:\n",
        "#     zip_ref.extractall('/content/dataset/')\n",
        "\n",
        "# print('File extracted successfully')\n"
      ]
    },
    {
      "cell_type": "code",
      "execution_count": null,
      "metadata": {
        "colab": {
          "base_uri": "https://localhost:8080/"
        },
        "id": "A8XQGwH_LyE4",
        "outputId": "71d78b72-e635-4ac2-9a80-97adbe5e27b7"
      },
      "outputs": [
        {
          "name": "stdout",
          "output_type": "stream",
          "text": [
            "x_train shape: (28709, 48, 48)\n",
            "y_train shape: (28709,)\n"
          ]
        }
      ],
      "source": [
        "import csv\n",
        "import numpy\n",
        "import zipfile\n",
        "\n",
        "train_images = []\n",
        "train_labels = []\n",
        "\n",
        "categories_count = {}\n",
        "\n",
        "# Extract the archive.zip file to a directory\n",
        "with zipfile.ZipFile('/content/drive/MyDrive/FacialRecognition/archive.zip', 'r') as zip_ref:\n",
        "    zip_ref.extractall('/content/FacialRecognition')\n",
        "\n",
        "with open('/content/FacialRecognition/train.csv') as train:\n",
        "\n",
        "    # Read train.csv file\n",
        "    csv_reader = csv.reader(train)\n",
        "    next(csv_reader)  # Skip the header\n",
        "\n",
        "    for row in csv_reader:\n",
        "\n",
        "        # Append image\n",
        "        pixels_str = row[1]\n",
        "        pixels_list = [int(i) for i in pixels_str.split(' ')]\n",
        "        pixels_list = numpy.array(pixels_list, dtype='uint8')\n",
        "        image = pixels_list.reshape((48, 48))\n",
        "        train_images.append(image)\n",
        "\n",
        "        label_str = row[0]\n",
        "\n",
        "        # Calculate categories count\n",
        "        count = 0\n",
        "        if label_str in categories_count:\n",
        "            count = categories_count[label_str] + 1\n",
        "        categories_count[label_str] = count\n",
        "\n",
        "        # Append label\n",
        "        label = int(label_str)\n",
        "        train_labels.append(label)\n",
        "\n",
        "# Create numpy array of train images and labels\n",
        "x_train = numpy.array(train_images)\n",
        "y_train = numpy.array(train_labels)\n",
        "\n",
        "print('x_train shape: {0}'.format(x_train.shape))\n",
        "print('y_train shape: {0}'.format(y_train.shape))"
      ]
    },
    {
      "cell_type": "code",
      "execution_count": null,
      "metadata": {
        "colab": {
          "base_uri": "https://localhost:8080/",
          "height": 281
        },
        "id": "gnKeImrGP3Hs",
        "outputId": "110c541e-ae8f-4a9a-c56e-d1f6af1aead0"
      },
      "outputs": [
        {
          "data": {
            "image/png": "[encoded data removed]",
            "text/plain": [
              "<Figure size 432x288 with 1 Axes>"
            ]
          },
          "metadata": {},
          "output_type": "display_data"
        }
      ],
      "source": [
        "import matplotlib.pyplot as plt\n",
        "%matplotlib inline\n",
        "\n",
        "categories = ('Angry', 'Disgust', 'Fear', 'Happy', 'Sad', 'Surprise', 'Neutral')\n",
        "y_pos = numpy.arange(len(categories))\n",
        "\n",
        "counts = []\n",
        "for label in range(len(categories)):\n",
        "    label_str = str(label)\n",
        "    count = categories_count[label_str]\n",
        "    counts.append(count)\n",
        "    plt.text(label - 0.25, count + 15, str(count))\n",
        "\n",
        "# Draw histogram\n",
        "plt.bar(y_pos, counts, align='center', alpha=0.5)\n",
        "plt.xticks(y_pos, categories)\n",
        "plt.ylabel('Count')\n",
        "plt.title('FER2013 Dataset Categories')\n",
        "\n",
        "plt.show()"
      ]
    },
    {
      "cell_type": "code",
      "execution_count": null,
      "metadata": {
        "colab": {
          "base_uri": "https://localhost:8080/",
          "height": 302
        },
        "id": "mddXZfmwhD_u",
        "outputId": "1c220ff8-d361-42d7-d114-4080c774802c"
      },
      "outputs": [
        {
          "name": "stdout",
          "output_type": "stream",
          "text": [
            "Label is: 0\n"
          ]
        },
        {
          "data": {
            "text/plain": [
              "<matplotlib.image.AxesImage at 0x7fb1f38b3c10>"
            ]
          },
          "execution_count": 11,
          "metadata": {},
          "output_type": "execute_result"
        },
        {
          "data": {
            "image/png": "[encoded data removed]",
            "text/plain": [
              "<Figure size 432x288 with 1 Axes>"
            ]
          },
          "metadata": {},
          "output_type": "display_data"
        }
      ],
      "source": [
        "image = x_train[0]\n",
        "label = y_train[0]\n",
        "\n",
        "print('Label is: ' + str(label))\n",
        "plt.imshow(image, cmap='gray')"
      ]
    },
    {
      "cell_type": "code",
      "execution_count": null,
      "metadata": {
        "colab": {
          "base_uri": "https://localhost:8080/"
        },
        "id": "iY1vXvOuP68L",
        "outputId": "ebdc1971-3de3-4a55-ec20-3ef0b7810d30"
      },
      "outputs": [
        {
          "name": "stdout",
          "output_type": "stream",
          "text": [
            "(22967, 48, 48, 1)\n",
            "(5742, 48, 48, 1)\n"
          ]
        }
      ],
      "source": [
        "from sklearn.model_selection import train_test_split\n",
        "\n",
        "# Split dataset into train set and test set\n",
        "x_train, x_test, y_train, y_test = train_test_split(x_train, y_train, test_size=0.2)\n",
        "x_train, x_test = x_train / 255.0, x_test / 255.0\n",
        "\n",
        "x_train = x_train.reshape(len(x_train), 48, 48, 1)\n",
        "x_test = x_test.reshape(len(x_test), 48, 48, 1)\n",
        "\n",
        "print(x_train.shape)\n",
        "print(x_test.shape)"
      ]
    },
    {
      "cell_type": "code",
      "execution_count": null,
      "metadata": {
        "colab": {
          "background_save": true,
          "base_uri": "https://localhost:8080/"
        },
        "id": "mMZZXtFvP_kK",
        "outputId": "b0638bb9-d420-48cf-e081-1301832dc3a3"
      },
      "outputs": [
        {
          "name": "stdout",
          "output_type": "stream",
          "text": [
            "Epoch 1/100\n",
            "359/359 [==============================] - 1415s 4s/step - loss: 1.8130 - accuracy: 0.2505 - val_loss: 2.0640 - val_accuracy: 0.2520 - lr: 0.0010\n",
            "Epoch 2/100\n",
            "359/359 [==============================] - 1429s 4s/step - loss: 1.6642 - accuracy: 0.3306 - val_loss: 1.5312 - val_accuracy: 0.3845 - lr: 0.0010\n",
            "Epoch 3/100\n",
            "359/359 [==============================] - 1408s 4s/step - loss: 1.5043 - accuracy: 0.4092 - val_loss: 1.5424 - val_accuracy: 0.4260 - lr: 0.0010\n",
            "Epoch 4/100\n",
            "359/359 [==============================] - 1380s 4s/step - loss: 1.3925 - accuracy: 0.4669 - val_loss: 1.4094 - val_accuracy: 0.4462 - lr: 0.0010\n",
            "Epoch 5/100\n",
            "359/359 [==============================] - 1379s 4s/step - loss: 1.3227 - accuracy: 0.4973 - val_loss: 1.4908 - val_accuracy: 0.4110 - lr: 0.0010\n",
            "Epoch 6/100\n",
            " 53/359 [===>..........................] - ETA: 18:28 - loss: 1.2829 - accuracy: 0.5198"
          ]
        }
      ],
      "source": [
        "%tensorflow_version 2.x\n",
        "import tensorflow as tf\n",
        "\n",
        "print('Tensorflow version: {}'.format(tf.__version__))\n",
        "\n",
        "from tensorflow.keras.models import Sequential\n",
        "from tensorflow.keras.layers import Conv2D, BatchNormalization, MaxPool2D, Dropout, Flatten, Dense\n",
        "\n",
        "from tensorflow.keras.optimizers import Adam\n",
        "from tensorflow.keras.callbacks import EarlyStopping, ReduceLROnPlateau\n",
        "\n",
        "from tensorflow.keras import Model, Input\n",
        "\n",
        "from tensorflow.keras.preprocessing.image import ImageDataGenerator"
      ]
    },
    {
      "cell_type": "code",
      "execution_count": null,
      "metadata": {
        "colab": {
          "base_uri": "https://localhost:8080/"
        },
        "id": "_5tQdCmpnX-F",
        "outputId": "c2669529-884b-4306-9b75-656598017392"
      },
      "outputs": [
        {
          "name": "stdout",
          "output_type": "stream",
          "text": [
            "Model: \"sequential\"\n",
            "_________________________________________________________________\n",
            " Layer (type)                Output Shape              Param #   \n",
            "=================================================================\n",
            " conv2d (Conv2D)             (None, 46, 46, 64)        640       \n",
            "                                                                 \n",
            " batch_normalization (BatchN  (None, 46, 46, 64)       256       \n",
            " ormalization)                                                   \n",
            "                                                                 \n",
            " conv2d_1 (Conv2D)           (None, 46, 46, 64)        36928     \n",
            "                                                                 \n",
            " batch_normalization_1 (Batc  (None, 46, 46, 64)       256       \n",
            " hNormalization)                                                 \n",
            "                                                                 \n",
            " max_pooling2d (MaxPooling2D  (None, 22, 22, 64)       0         \n",
            " )                                                               \n",
            "                                                                 \n",
            " dropout (Dropout)           (None, 22, 22, 64)        0         \n",
            "                                                                 \n",
            " conv2d_2 (Conv2D)           (None, 22, 22, 128)       73856     \n",
            "                                                                 \n",
            " batch_normalization_2 (Batc  (None, 22, 22, 128)      512       \n",
            " hNormalization)                                                 \n",
            "                                                                 \n",
            " conv2d_3 (Conv2D)           (None, 22, 22, 128)       147584    \n",
            "                                                                 \n",
            " batch_normalization_3 (Batc  (None, 22, 22, 128)      512       \n",
            " hNormalization)                                                 \n",
            "                                                                 \n",
            " max_pooling2d_1 (MaxPooling  (None, 10, 10, 128)      0         \n",
            " 2D)                                                             \n",
            "                                                                 \n",
            " dropout_1 (Dropout)         (None, 10, 10, 128)       0         \n",
            "                                                                 \n",
            " conv2d_4 (Conv2D)           (None, 10, 10, 256)       295168    \n",
            "                                                                 \n",
            " batch_normalization_4 (Batc  (None, 10, 10, 256)      1024      \n",
            " hNormalization)                                                 \n",
            "                                                                 \n",
            " conv2d_5 (Conv2D)           (None, 10, 10, 256)       590080    \n",
            "                                                                 \n",
            " batch_normalization_5 (Batc  (None, 10, 10, 256)      1024      \n",
            " hNormalization)                                                 \n",
            "                                                                 \n",
            " max_pooling2d_2 (MaxPooling  (None, 4, 4, 256)        0         \n",
            " 2D)                                                             \n",
            "                                                                 \n",
            " dropout_2 (Dropout)         (None, 4, 4, 256)         0         \n",
            "                                                                 \n",
            " conv2d_6 (Conv2D)           (None, 4, 4, 512)         1180160   \n",
            "                                                                 \n",
            " batch_normalization_6 (Batc  (None, 4, 4, 512)        2048      \n",
            " hNormalization)                                                 \n",
            "                                                                 \n",
            " conv2d_7 (Conv2D)           (None, 4, 4, 512)         2359808   \n",
            "                                                                 \n",
            " batch_normalization_7 (Batc  (None, 4, 4, 512)        2048      \n",
            " hNormalization)                                                 \n",
            "                                                                 \n",
            " max_pooling2d_3 (MaxPooling  (None, 1, 1, 512)        0         \n",
            " 2D)                                                             \n",
            "                                                                 \n",
            " dropout_3 (Dropout)         (None, 1, 1, 512)         0         \n",
            "                                                                 \n",
            " flatten (Flatten)           (None, 512)               0         \n",
            "                                                                 \n",
            " dense (Dense)               (None, 512)               262656    \n",
            "                                                                 \n",
            " dropout_4 (Dropout)         (None, 512)               0         \n",
            "                                                                 \n",
            " dense_1 (Dense)             (None, 256)               131328    \n",
            "                                                                 \n",
            " dropout_5 (Dropout)         (None, 256)               0         \n",
            "                                                                 \n",
            " dense_2 (Dense)             (None, 64)                16448     \n",
            "                                                                 \n",
            " dropout_6 (Dropout)         (None, 64)                0         \n",
            "                                                                 \n",
            " dense_3 (Dense)             (None, 7)                 455       \n",
            "                                                                 \n",
            "=================================================================\n",
            "Total params: 5,102,791\n",
            "Trainable params: 5,098,951\n",
            "Non-trainable params: 3,840\n",
            "_________________________________________________________________\n"
          ]
        }
      ],
      "source": [
        "cnn_model = Sequential()\n",
        "\n",
        "# 1st convolution layer\n",
        "cnn_model.add(Conv2D(64, input_shape=(48, 48, 1), kernel_size=(3, 3), activation='relu'))\n",
        "cnn_model.add(BatchNormalization())\n",
        "cnn_model.add(Conv2D(64, padding='same', kernel_size=(3, 3), activation='relu'))\n",
        "cnn_model.add(BatchNormalization())\n",
        "cnn_model.add(MaxPool2D(pool_size=(3, 3), strides=(2, 2)))\n",
        "cnn_model.add(Dropout(0.3))\n",
        "\n",
        "# 2nd convolution layer\n",
        "cnn_model.add(Conv2D(128, padding='same', kernel_size=(3, 3), activation='relu'))\n",
        "cnn_model.add(BatchNormalization())\n",
        "cnn_model.add(Conv2D(128, padding='same', kernel_size=(3, 3), activation='relu'))\n",
        "cnn_model.add(BatchNormalization())\n",
        "cnn_model.add(MaxPool2D(pool_size=(3, 3), strides=(2, 2)))\n",
        "cnn_model.add(Dropout(0.3))\n",
        "\n",
        "# 3rd convolution layer\n",
        "cnn_model.add(Conv2D(256, padding='same', kernel_size=(3, 3), activation='relu'))\n",
        "cnn_model.add(BatchNormalization())\n",
        "cnn_model.add(Conv2D(256, padding='same', kernel_size=(3, 3), activation='relu'))\n",
        "cnn_model.add(BatchNormalization())\n",
        "cnn_model.add(MaxPool2D(pool_size=(3, 3), strides=(2, 2)))\n",
        "cnn_model.add(Dropout(0.3))\n",
        "\n",
        "# 4th convolution layer\n",
        "cnn_model.add(Conv2D(512, padding='same', kernel_size=(3, 3), activation='relu'))\n",
        "cnn_model.add(BatchNormalization())\n",
        "cnn_model.add(Conv2D(512, padding='same', kernel_size=(3, 3), activation='relu'))\n",
        "cnn_model.add(BatchNormalization())\n",
        "cnn_model.add(MaxPool2D(pool_size=(3, 3), strides=(2, 2)))\n",
        "cnn_model.add(Dropout(0.3))\n",
        "\n",
        "# Fully connected layer\n",
        "cnn_model.add(Flatten())\n",
        "cnn_model.add(Dense(512, activation='relu'))\n",
        "cnn_model.add(Dropout(0.3))\n",
        "cnn_model.add(Dense(256, activation='relu'))\n",
        "cnn_model.add(Dropout(0.3))\n",
        "cnn_model.add(Dense(64, activation='relu'))\n",
        "cnn_model.add(Dropout(0.3))\n",
        "\n",
        "cnn_model.add(Dense(7, activation='softmax'))\n",
        "\n",
        "# Compile the model\n",
        "adam = Adam(learning_rate=0.001)\n",
        "cnn_model.compile(optimizer=adam,\n",
        "                  loss='sparse_categorical_crossentropy',\n",
        "                  metrics=['accuracy'])\n",
        "\n",
        "# Summary the model\n",
        "cnn_model.summary()"
      ]
    },
    {
      "cell_type": "code",
      "execution_count": null,
      "metadata": {
        "colab": {
          "base_uri": "https://localhost:8080/"
        },
        "id": "_ML_KzY8p8jo",
        "outputId": "0112f6c8-7e48-4f8a-dad3-fd484db8668b"
      },
      "outputs": [
        {
          "name": "stdout",
          "output_type": "stream",
          "text": [
            "Epoch 1/100\n",
            "359/359 [==============================] - 37s 56ms/step - loss: 1.8674 - accuracy: 0.2362 - val_loss: 1.8153 - val_accuracy: 0.2416 - lr: 0.0010\n",
            "Epoch 2/100\n",
            "359/359 [==============================] - 19s 52ms/step - loss: 1.6343 - accuracy: 0.3423 - val_loss: 1.5814 - val_accuracy: 0.3976 - lr: 0.0010\n",
            "Epoch 3/100\n",
            "359/359 [==============================] - 19s 54ms/step - loss: 1.4796 - accuracy: 0.4158 - val_loss: 1.5547 - val_accuracy: 0.3772 - lr: 0.0010\n",
            "Epoch 4/100\n",
            "359/359 [==============================] - 19s 52ms/step - loss: 1.3795 - accuracy: 0.4681 - val_loss: 1.3638 - val_accuracy: 0.4687 - lr: 0.0010\n",
            "Epoch 5/100\n",
            "359/359 [==============================] - 19s 54ms/step - loss: 1.3038 - accuracy: 0.5046 - val_loss: 1.3009 - val_accuracy: 0.5084 - lr: 0.0010\n",
            "Epoch 6/100\n",
            "359/359 [==============================] - 19s 54ms/step - loss: 1.2580 - accuracy: 0.5295 - val_loss: 1.3164 - val_accuracy: 0.4902 - lr: 0.0010\n",
            "Epoch 7/100\n",
            "359/359 [==============================] - 19s 53ms/step - loss: 1.2168 - accuracy: 0.5429 - val_loss: 1.2567 - val_accuracy: 0.5324 - lr: 0.0010\n",
            "Epoch 8/100\n",
            "359/359 [==============================] - 19s 53ms/step - loss: 1.1804 - accuracy: 0.5639 - val_loss: 1.1578 - val_accuracy: 0.5709 - lr: 0.0010\n",
            "Epoch 9/100\n",
            "359/359 [==============================] - 19s 53ms/step - loss: 1.1387 - accuracy: 0.5804 - val_loss: 1.1741 - val_accuracy: 0.5564 - lr: 0.0010\n",
            "Epoch 10/100\n",
            "359/359 [==============================] - 19s 54ms/step - loss: 1.0888 - accuracy: 0.6010 - val_loss: 1.1848 - val_accuracy: 0.5613 - lr: 0.0010\n",
            "Epoch 11/100\n",
            "359/359 [==============================] - 19s 52ms/step - loss: 1.0590 - accuracy: 0.6118 - val_loss: 1.1276 - val_accuracy: 0.5820 - lr: 0.0010\n",
            "Epoch 12/100\n",
            "359/359 [==============================] - 19s 52ms/step - loss: 1.0309 - accuracy: 0.6230 - val_loss: 1.1997 - val_accuracy: 0.5571 - lr: 0.0010\n",
            "Epoch 13/100\n",
            "359/359 [==============================] - 19s 53ms/step - loss: 0.9905 - accuracy: 0.6418 - val_loss: 1.1636 - val_accuracy: 0.5886 - lr: 0.0010\n",
            "Epoch 14/100\n",
            "359/359 [==============================] - 19s 52ms/step - loss: 0.9484 - accuracy: 0.6552 - val_loss: 1.1770 - val_accuracy: 0.5848 - lr: 0.0010\n",
            "Epoch 15/100\n",
            "359/359 [==============================] - 19s 53ms/step - loss: 0.9110 - accuracy: 0.6694 - val_loss: 1.1151 - val_accuracy: 0.5980 - lr: 0.0010\n",
            "Epoch 16/100\n",
            "359/359 [==============================] - 19s 53ms/step - loss: 0.8807 - accuracy: 0.6821 - val_loss: 1.0855 - val_accuracy: 0.6146 - lr: 0.0010\n",
            "Epoch 17/100\n",
            "359/359 [==============================] - 19s 53ms/step - loss: 0.8340 - accuracy: 0.6993 - val_loss: 1.3021 - val_accuracy: 0.5505 - lr: 0.0010\n",
            "Epoch 18/100\n",
            "359/359 [==============================] - 19s 52ms/step - loss: 0.7952 - accuracy: 0.7149 - val_loss: 1.3803 - val_accuracy: 0.5556 - lr: 0.0010\n",
            "Epoch 19/100\n",
            "359/359 [==============================] - 19s 53ms/step - loss: 0.7592 - accuracy: 0.7258 - val_loss: 1.1284 - val_accuracy: 0.6082 - lr: 0.0010\n",
            "Epoch 20/100\n",
            "359/359 [==============================] - 19s 54ms/step - loss: 0.7187 - accuracy: 0.7472 - val_loss: 1.3894 - val_accuracy: 0.5218 - lr: 0.0010\n",
            "Epoch 21/100\n",
            "359/359 [==============================] - 19s 53ms/step - loss: 0.6873 - accuracy: 0.7560 - val_loss: 1.1370 - val_accuracy: 0.6200 - lr: 0.0010\n",
            "Epoch 22/100\n",
            "359/359 [==============================] - 19s 52ms/step - loss: 0.6243 - accuracy: 0.7822 - val_loss: 1.3267 - val_accuracy: 0.6031 - lr: 9.0000e-04\n",
            "Epoch 23/100\n",
            "359/359 [==============================] - 19s 53ms/step - loss: 0.5791 - accuracy: 0.7961 - val_loss: 1.2529 - val_accuracy: 0.6304 - lr: 9.0000e-04\n",
            "Epoch 24/100\n",
            "359/359 [==============================] - 19s 53ms/step - loss: 0.5310 - accuracy: 0.8185 - val_loss: 1.3108 - val_accuracy: 0.6299 - lr: 9.0000e-04\n",
            "Epoch 25/100\n",
            "359/359 [==============================] - 19s 52ms/step - loss: 0.5090 - accuracy: 0.8254 - val_loss: 1.2603 - val_accuracy: 0.6343 - lr: 9.0000e-04\n",
            "Epoch 26/100\n",
            "359/359 [==============================] - 19s 52ms/step - loss: 0.4721 - accuracy: 0.8356 - val_loss: 1.3288 - val_accuracy: 0.6146 - lr: 9.0000e-04\n",
            "Epoch 27/100\n",
            "359/359 [==============================] - 19s 52ms/step - loss: 0.4213 - accuracy: 0.8545 - val_loss: 1.4295 - val_accuracy: 0.6383 - lr: 8.1000e-04\n",
            "Epoch 28/100\n",
            "359/359 [==============================] - 19s 52ms/step - loss: 0.3978 - accuracy: 0.8662 - val_loss: 1.4452 - val_accuracy: 0.6311 - lr: 8.1000e-04\n",
            "Epoch 29/100\n",
            "359/359 [==============================] - 19s 52ms/step - loss: 0.3833 - accuracy: 0.8716 - val_loss: 1.4761 - val_accuracy: 0.6334 - lr: 8.1000e-04\n",
            "Epoch 30/100\n",
            "359/359 [==============================] - 19s 52ms/step - loss: 0.3523 - accuracy: 0.8805 - val_loss: 1.5990 - val_accuracy: 0.6296 - lr: 8.1000e-04\n",
            "Epoch 31/100\n",
            "359/359 [==============================] - 19s 52ms/step - loss: 0.3320 - accuracy: 0.8891 - val_loss: 1.5311 - val_accuracy: 0.6414 - lr: 8.1000e-04\n",
            "Epoch 32/100\n",
            "359/359 [==============================] - 18s 51ms/step - loss: 0.2991 - accuracy: 0.8999 - val_loss: 1.5154 - val_accuracy: 0.6386 - lr: 7.2900e-04\n",
            "Epoch 33/100\n",
            "359/359 [==============================] - 19s 52ms/step - loss: 0.2826 - accuracy: 0.9081 - val_loss: 1.7865 - val_accuracy: 0.6191 - lr: 7.2900e-04\n",
            "Epoch 34/100\n",
            "359/359 [==============================] - 19s 52ms/step - loss: 0.2618 - accuracy: 0.9140 - val_loss: 1.6750 - val_accuracy: 0.6334 - lr: 7.2900e-04\n",
            "Epoch 35/100\n",
            "359/359 [==============================] - 19s 52ms/step - loss: 0.2468 - accuracy: 0.9179 - val_loss: 1.8985 - val_accuracy: 0.6263 - lr: 7.2900e-04\n",
            "Epoch 36/100\n",
            "359/359 [==============================] - 19s 52ms/step - loss: 0.2349 - accuracy: 0.9220 - val_loss: 1.7937 - val_accuracy: 0.6439 - lr: 7.2900e-04\n",
            "Epoch 37/100\n",
            "359/359 [==============================] - 19s 53ms/step - loss: 0.2111 - accuracy: 0.9306 - val_loss: 1.9037 - val_accuracy: 0.6390 - lr: 6.5610e-04\n",
            "Epoch 38/100\n",
            "359/359 [==============================] - 19s 52ms/step - loss: 0.1893 - accuracy: 0.9376 - val_loss: 1.9409 - val_accuracy: 0.6440 - lr: 6.5610e-04\n",
            "Epoch 39/100\n",
            "359/359 [==============================] - 19s 53ms/step - loss: 0.1849 - accuracy: 0.9378 - val_loss: 1.7777 - val_accuracy: 0.6355 - lr: 6.5610e-04\n",
            "Epoch 40/100\n",
            "359/359 [==============================] - 19s 53ms/step - loss: 0.1876 - accuracy: 0.9380 - val_loss: 1.8009 - val_accuracy: 0.6404 - lr: 6.5610e-04\n",
            "Epoch 41/100\n",
            "359/359 [==============================] - 19s 52ms/step - loss: 0.1807 - accuracy: 0.9415 - val_loss: 2.0389 - val_accuracy: 0.6379 - lr: 6.5610e-04\n",
            "Epoch 42/100\n",
            "359/359 [==============================] - 19s 52ms/step - loss: 0.1505 - accuracy: 0.9514 - val_loss: 2.0900 - val_accuracy: 0.6430 - lr: 5.9049e-04\n",
            "Epoch 43/100\n",
            "359/359 [==============================] - 19s 53ms/step - loss: 0.1431 - accuracy: 0.9546 - val_loss: 2.0152 - val_accuracy: 0.6416 - lr: 5.9049e-04\n",
            "Epoch 44/100\n",
            "359/359 [==============================] - 19s 53ms/step - loss: 0.1433 - accuracy: 0.9546 - val_loss: 1.9238 - val_accuracy: 0.6479 - lr: 5.9049e-04\n",
            "Epoch 45/100\n",
            "359/359 [==============================] - 18s 51ms/step - loss: 0.1402 - accuracy: 0.9540 - val_loss: 1.9822 - val_accuracy: 0.6418 - lr: 5.9049e-04\n",
            "Epoch 46/100\n",
            "359/359 [==============================] - 19s 53ms/step - loss: 0.1243 - accuracy: 0.9603 - val_loss: 2.1425 - val_accuracy: 0.6484 - lr: 5.9049e-04\n",
            "Epoch 47/100\n",
            "359/359 [==============================] - 19s 52ms/step - loss: 0.1247 - accuracy: 0.9606 - val_loss: 1.9772 - val_accuracy: 0.6392 - lr: 5.3144e-04\n",
            "Epoch 48/100\n",
            "359/359 [==============================] - 19s 52ms/step - loss: 0.1112 - accuracy: 0.9642 - val_loss: 2.1477 - val_accuracy: 0.6411 - lr: 5.3144e-04\n",
            "Epoch 49/100\n",
            "359/359 [==============================] - 19s 53ms/step - loss: 0.1165 - accuracy: 0.9646 - val_loss: 2.2424 - val_accuracy: 0.6456 - lr: 5.3144e-04\n",
            "Epoch 50/100\n",
            "359/359 [==============================] - 19s 53ms/step - loss: 0.1065 - accuracy: 0.9666 - val_loss: 2.2071 - val_accuracy: 0.6411 - lr: 5.3144e-04\n",
            "Epoch 51/100\n",
            "359/359 [==============================] - 19s 52ms/step - loss: 0.1022 - accuracy: 0.9680 - val_loss: 2.4033 - val_accuracy: 0.6407 - lr: 5.3144e-04\n",
            "Epoch 52/100\n",
            "359/359 [==============================] - 19s 52ms/step - loss: 0.1035 - accuracy: 0.9671 - val_loss: 2.0744 - val_accuracy: 0.6433 - lr: 4.7830e-04\n",
            "Epoch 53/100\n",
            "359/359 [==============================] - 19s 53ms/step - loss: 0.0948 - accuracy: 0.9712 - val_loss: 2.2922 - val_accuracy: 0.6419 - lr: 4.7830e-04\n",
            "Epoch 54/100\n",
            "359/359 [==============================] - 19s 53ms/step - loss: 0.0934 - accuracy: 0.9704 - val_loss: 2.2818 - val_accuracy: 0.6479 - lr: 4.7830e-04\n",
            "Epoch 55/100\n",
            "359/359 [==============================] - 19s 53ms/step - loss: 0.0858 - accuracy: 0.9717 - val_loss: 2.3187 - val_accuracy: 0.6351 - lr: 4.7830e-04\n",
            "Epoch 56/100\n",
            "359/359 [==============================] - 19s 52ms/step - loss: 0.0928 - accuracy: 0.9729 - val_loss: 2.2873 - val_accuracy: 0.6459 - lr: 4.7830e-04\n"
          ]
        }
      ],
      "source": [
        "# Callbacks\n",
        "early_stopping = EarlyStopping(monitor='val_accuracy', patience=10)\n",
        "reduce_learning_rate = ReduceLROnPlateau(monitor='val_loss', factor=0.9, patience=5)\n",
        "\n",
        "# Train the model\n",
        "history = cnn_model.fit(x_train,\n",
        "                        y_train,\n",
        "                        batch_size=64,\n",
        "                        epochs=100,\n",
        "                        validation_data=(x_test, y_test),\n",
        "                        callbacks=[early_stopping, reduce_learning_rate])"
      ]
    },
    {
      "cell_type": "code",
      "execution_count": null,
      "metadata": {
        "colab": {
          "base_uri": "https://localhost:8080/",
          "height": 295
        },
        "id": "tSn92KOXrgLz",
        "outputId": "058be559-fef4-4dc5-ccc0-1cec3979d6e1"
      },
      "outputs": [
        {
          "data": {
            "image/png": "[encoded data removed]",
            "text/plain": [
              "<Figure size 432x288 with 1 Axes>"
            ]
          },
          "metadata": {},
          "output_type": "display_data"
        }
      ],
      "source": [
        "# Show accuracy diagram\n",
        "plt.title('Model Accuracy')\n",
        "plt.plot(history.history['accuracy'], label='accuracy')\n",
        "plt.plot(history.history['val_accuracy'], label='val_accuracy')\n",
        "plt.xlabel('Epoch')\n",
        "plt.ylabel('Accuracy')\n",
        "plt.legend(['Accuracy', 'Validation Accuracy'])\n",
        "plt.show()"
      ]
    },
    {
      "cell_type": "code",
      "execution_count": null,
      "metadata": {
        "colab": {
          "base_uri": "https://localhost:8080/"
        },
        "id": "XyNr1WwWsIQt",
        "outputId": "b019011a-a564-4a9e-dc70-ff5e1bcaba27"
      },
      "outputs": [
        {
          "name": "stdout",
          "output_type": "stream",
          "text": [
            "180/180 [==============================] - 6s 26ms/step - loss: 2.2873 - accuracy: 0.6459\n",
            "Score before improvement: 0.6459421515464783\n"
          ]
        }
      ],
      "source": [
        "# Evaluate the model before improvement\n",
        "_, score_before_improvement = cnn_model.evaluate(x_test, y_test)\n",
        "print('Score before improvement: {}'.format(score_before_improvement))"
      ]
    },
    {
      "cell_type": "code",
      "execution_count": null,
      "metadata": {
        "colab": {
          "base_uri": "https://localhost:8080/"
        },
        "id": "Zl7X9sYCvvZa",
        "outputId": "6ffd4f42-8781-45e3-cee5-993386bb553e"
      },
      "outputs": [
        {
          "name": "stdout",
          "output_type": "stream",
          "text": [
            "180/180 [==============================] - 3s 10ms/step\n",
            "(4727, 48, 48, 1)\n",
            "(4727,)\n"
          ]
        }
      ],
      "source": [
        "# Generate hard data\n",
        "hard_images = []\n",
        "hard_labels = []\n",
        "\n",
        "# Make predictions\n",
        "predictions = cnn_model.predict(x_test)\n",
        "for i, v in enumerate(predictions):\n",
        "    y_predict = numpy.argmax(v)\n",
        "    y_real = y_train[i]\n",
        "    if y_predict != y_real:\n",
        "        # If predict incorrectly, append to array\n",
        "        image = x_train[i]\n",
        "        hard_image = image.reshape(1, 48, 48, 1)\n",
        "        hard_images.append(image)\n",
        "        hard_labels.append(y_real)\n",
        "\n",
        "x_hard = numpy.array(hard_images)\n",
        "y_hard = numpy.array(hard_labels)\n",
        "\n",
        "print(x_hard.shape)\n",
        "print(y_hard.shape)\n"
      ]
    },
    {
      "cell_type": "code",
      "execution_count": null,
      "metadata": {
        "colab": {
          "base_uri": "https://localhost:8080/"
        },
        "id": "gg5aNqK7zaTp",
        "outputId": "d0ad10f4-1138-4d55-a674-23ba136331b2"
      },
      "outputs": [
        {
          "name": "stdout",
          "output_type": "stream",
          "text": [
            "Epoch 1/100\n",
            "60/60 [==============================] - 4s 69ms/step - loss: 0.0817 - accuracy: 0.9757 - val_loss: 0.0120 - val_accuracy: 0.9947 - lr: 4.3047e-04\n",
            "Epoch 2/100\n",
            "60/60 [==============================] - 3s 55ms/step - loss: 0.0505 - accuracy: 0.9828 - val_loss: 0.0120 - val_accuracy: 0.9947 - lr: 4.3047e-04\n",
            "Epoch 3/100\n",
            "60/60 [==============================] - 3s 54ms/step - loss: 0.0667 - accuracy: 0.9788 - val_loss: 0.0115 - val_accuracy: 0.9958 - lr: 4.3047e-04\n",
            "Epoch 4/100\n",
            "60/60 [==============================] - 3s 54ms/step - loss: 0.0423 - accuracy: 0.9852 - val_loss: 0.0119 - val_accuracy: 0.9979 - lr: 4.3047e-04\n",
            "Epoch 5/100\n",
            "60/60 [==============================] - 3s 54ms/step - loss: 0.0330 - accuracy: 0.9889 - val_loss: 0.0118 - val_accuracy: 0.9968 - lr: 4.3047e-04\n",
            "Epoch 6/100\n",
            "60/60 [==============================] - 3s 57ms/step - loss: 0.0579 - accuracy: 0.9804 - val_loss: 0.0129 - val_accuracy: 0.9958 - lr: 4.3047e-04\n",
            "Epoch 7/100\n",
            "60/60 [==============================] - 3s 51ms/step - loss: 0.0510 - accuracy: 0.9849 - val_loss: 0.0172 - val_accuracy: 0.9958 - lr: 4.3047e-04\n",
            "Epoch 8/100\n",
            "60/60 [==============================] - 3s 51ms/step - loss: 0.0593 - accuracy: 0.9841 - val_loss: 0.0283 - val_accuracy: 0.9894 - lr: 4.3047e-04\n",
            "Epoch 9/100\n",
            "60/60 [==============================] - 3s 51ms/step - loss: 0.0776 - accuracy: 0.9762 - val_loss: 0.0268 - val_accuracy: 0.9894 - lr: 3.8742e-04\n",
            "Epoch 10/100\n",
            "60/60 [==============================] - 3s 54ms/step - loss: 0.0826 - accuracy: 0.9757 - val_loss: 0.0315 - val_accuracy: 0.9915 - lr: 3.8742e-04\n",
            "Epoch 11/100\n",
            "60/60 [==============================] - 3s 56ms/step - loss: 0.0622 - accuracy: 0.9802 - val_loss: 0.0277 - val_accuracy: 0.9915 - lr: 3.8742e-04\n",
            "Epoch 12/100\n",
            "60/60 [==============================] - 3s 51ms/step - loss: 0.0478 - accuracy: 0.9844 - val_loss: 0.0198 - val_accuracy: 0.9947 - lr: 3.8742e-04\n",
            "Epoch 13/100\n",
            "60/60 [==============================] - 3s 51ms/step - loss: 0.0522 - accuracy: 0.9849 - val_loss: 0.0277 - val_accuracy: 0.9915 - lr: 3.8742e-04\n",
            "Epoch 14/100\n",
            "60/60 [==============================] - 3s 54ms/step - loss: 0.0508 - accuracy: 0.9852 - val_loss: 0.0263 - val_accuracy: 0.9915 - lr: 3.4868e-04\n"
          ]
        }
      ],
      "source": [
        "# Train the model on hard data\n",
        "x_hard_train, x_hard_test, y_hard_train, y_hard_test = train_test_split(x_hard, y_hard, test_size=0.2)\n",
        "history = cnn_model.fit(x_hard_train,\n",
        "                        y_hard_train,\n",
        "                        batch_size=64,\n",
        "                        epochs=100,\n",
        "                        validation_data=(x_hard_test, y_hard_test),\n",
        "                        callbacks=[early_stopping, reduce_learning_rate])"
      ]
    },
    {
      "cell_type": "code",
      "execution_count": null,
      "metadata": {
        "colab": {
          "base_uri": "https://localhost:8080/"
        },
        "id": "SUBW2ZPU2-Db",
        "outputId": "d0d0fd58-4776-4825-9645-9830b2454232"
      },
      "outputs": [
        {
          "name": "stdout",
          "output_type": "stream",
          "text": [
            "Epoch 1/100\n",
            "359/359 [==============================] - 22s 59ms/step - loss: 1.1049 - accuracy: 0.6323 - val_loss: 1.0024 - val_accuracy: 0.6423 - lr: 3.4868e-04\n",
            "Epoch 2/100\n",
            "359/359 [==============================] - 22s 62ms/step - loss: 0.9950 - accuracy: 0.6596 - val_loss: 0.9764 - val_accuracy: 0.6489 - lr: 3.4868e-04\n",
            "Epoch 3/100\n",
            "359/359 [==============================] - 21s 58ms/step - loss: 0.9516 - accuracy: 0.6748 - val_loss: 0.9767 - val_accuracy: 0.6486 - lr: 3.4868e-04\n",
            "Epoch 4/100\n",
            "359/359 [==============================] - 22s 62ms/step - loss: 0.9320 - accuracy: 0.6773 - val_loss: 0.9445 - val_accuracy: 0.6585 - lr: 3.4868e-04\n",
            "Epoch 5/100\n",
            "359/359 [==============================] - 21s 57ms/step - loss: 0.9206 - accuracy: 0.6805 - val_loss: 0.9430 - val_accuracy: 0.6581 - lr: 3.4868e-04\n",
            "Epoch 6/100\n",
            "359/359 [==============================] - 23s 63ms/step - loss: 0.9066 - accuracy: 0.6814 - val_loss: 0.9416 - val_accuracy: 0.6614 - lr: 3.4868e-04\n",
            "Epoch 7/100\n",
            "359/359 [==============================] - 21s 58ms/step - loss: 0.8964 - accuracy: 0.6876 - val_loss: 0.9378 - val_accuracy: 0.6641 - lr: 3.4868e-04\n",
            "Epoch 8/100\n",
            "359/359 [==============================] - 22s 61ms/step - loss: 0.8786 - accuracy: 0.6933 - val_loss: 0.9501 - val_accuracy: 0.6564 - lr: 3.4868e-04\n",
            "Epoch 9/100\n",
            "359/359 [==============================] - 21s 59ms/step - loss: 0.8726 - accuracy: 0.6951 - val_loss: 0.9351 - val_accuracy: 0.6658 - lr: 3.4868e-04\n",
            "Epoch 10/100\n",
            "359/359 [==============================] - 22s 60ms/step - loss: 0.8674 - accuracy: 0.6990 - val_loss: 0.9589 - val_accuracy: 0.6564 - lr: 3.4868e-04\n",
            "Epoch 11/100\n",
            "359/359 [==============================] - 21s 58ms/step - loss: 0.8409 - accuracy: 0.7067 - val_loss: 0.9415 - val_accuracy: 0.6672 - lr: 3.4868e-04\n",
            "Epoch 12/100\n",
            "359/359 [==============================] - 23s 64ms/step - loss: 0.8357 - accuracy: 0.7089 - val_loss: 0.9538 - val_accuracy: 0.6632 - lr: 3.4868e-04\n",
            "Epoch 13/100\n",
            "359/359 [==============================] - 21s 58ms/step - loss: 0.8336 - accuracy: 0.7080 - val_loss: 0.9508 - val_accuracy: 0.6609 - lr: 3.4868e-04\n",
            "Epoch 14/100\n",
            "359/359 [==============================] - 23s 64ms/step - loss: 0.8361 - accuracy: 0.7075 - val_loss: 0.9360 - val_accuracy: 0.6688 - lr: 3.4868e-04\n",
            "Epoch 15/100\n",
            "359/359 [==============================] - 21s 58ms/step - loss: 0.8021 - accuracy: 0.7182 - val_loss: 0.9533 - val_accuracy: 0.6675 - lr: 3.1381e-04\n",
            "Epoch 16/100\n",
            "359/359 [==============================] - 23s 64ms/step - loss: 0.8007 - accuracy: 0.7206 - val_loss: 0.9473 - val_accuracy: 0.6719 - lr: 3.1381e-04\n",
            "Epoch 17/100\n",
            "359/359 [==============================] - 22s 61ms/step - loss: 0.7899 - accuracy: 0.7217 - val_loss: 0.9512 - val_accuracy: 0.6681 - lr: 3.1381e-04\n",
            "Epoch 18/100\n",
            "359/359 [==============================] - 22s 62ms/step - loss: 0.7873 - accuracy: 0.7269 - val_loss: 0.9720 - val_accuracy: 0.6639 - lr: 3.1381e-04\n",
            "Epoch 19/100\n",
            "359/359 [==============================] - 22s 62ms/step - loss: 0.7785 - accuracy: 0.7229 - val_loss: 0.9283 - val_accuracy: 0.6742 - lr: 3.1381e-04\n",
            "Epoch 20/100\n",
            "359/359 [==============================] - 21s 57ms/step - loss: 0.7740 - accuracy: 0.7259 - val_loss: 0.9705 - val_accuracy: 0.6594 - lr: 3.1381e-04\n",
            "Epoch 21/100\n",
            "359/359 [==============================] - 21s 59ms/step - loss: 0.7554 - accuracy: 0.7349 - val_loss: 0.9586 - val_accuracy: 0.6642 - lr: 3.1381e-04\n",
            "Epoch 22/100\n",
            "359/359 [==============================] - 21s 57ms/step - loss: 0.7521 - accuracy: 0.7364 - val_loss: 0.9599 - val_accuracy: 0.6644 - lr: 3.1381e-04\n",
            "Epoch 23/100\n",
            "359/359 [==============================] - 21s 59ms/step - loss: 0.7532 - accuracy: 0.7339 - val_loss: 0.9477 - val_accuracy: 0.6688 - lr: 3.1381e-04\n",
            "Epoch 24/100\n",
            "359/359 [==============================] - 22s 60ms/step - loss: 0.7469 - accuracy: 0.7379 - val_loss: 0.9608 - val_accuracy: 0.6625 - lr: 3.1381e-04\n",
            "Epoch 25/100\n",
            "359/359 [==============================] - 21s 58ms/step - loss: 0.7352 - accuracy: 0.7445 - val_loss: 0.9593 - val_accuracy: 0.6717 - lr: 2.8243e-04\n",
            "Epoch 26/100\n",
            "359/359 [==============================] - 22s 60ms/step - loss: 0.7265 - accuracy: 0.7469 - val_loss: 0.9559 - val_accuracy: 0.6705 - lr: 2.8243e-04\n",
            "Epoch 27/100\n",
            "359/359 [==============================] - 21s 58ms/step - loss: 0.7173 - accuracy: 0.7472 - val_loss: 0.9738 - val_accuracy: 0.6670 - lr: 2.8243e-04\n",
            "Epoch 28/100\n",
            "359/359 [==============================] - 21s 59ms/step - loss: 0.7285 - accuracy: 0.7445 - val_loss: 0.9488 - val_accuracy: 0.6679 - lr: 2.8243e-04\n",
            "Epoch 29/100\n",
            "359/359 [==============================] - 22s 61ms/step - loss: 0.7197 - accuracy: 0.7491 - val_loss: 0.9284 - val_accuracy: 0.6792 - lr: 2.8243e-04\n",
            "Epoch 30/100\n",
            "359/359 [==============================] - 22s 60ms/step - loss: 0.6936 - accuracy: 0.7555 - val_loss: 0.9711 - val_accuracy: 0.6677 - lr: 2.5419e-04\n",
            "Epoch 31/100\n",
            "359/359 [==============================] - 21s 58ms/step - loss: 0.6872 - accuracy: 0.7570 - val_loss: 0.9922 - val_accuracy: 0.6663 - lr: 2.5419e-04\n",
            "Epoch 32/100\n",
            "359/359 [==============================] - 22s 60ms/step - loss: 0.6946 - accuracy: 0.7594 - val_loss: 0.9699 - val_accuracy: 0.6661 - lr: 2.5419e-04\n",
            "Epoch 33/100\n",
            "359/359 [==============================] - 22s 61ms/step - loss: 0.6921 - accuracy: 0.7529 - val_loss: 0.9668 - val_accuracy: 0.6717 - lr: 2.5419e-04\n",
            "Epoch 34/100\n",
            "359/359 [==============================] - 23s 64ms/step - loss: 0.6844 - accuracy: 0.7589 - val_loss: 0.9894 - val_accuracy: 0.6668 - lr: 2.5419e-04\n",
            "Epoch 35/100\n",
            "359/359 [==============================] - 21s 58ms/step - loss: 0.6758 - accuracy: 0.7626 - val_loss: 0.9771 - val_accuracy: 0.6682 - lr: 2.2877e-04\n",
            "Epoch 36/100\n",
            "359/359 [==============================] - 23s 64ms/step - loss: 0.6637 - accuracy: 0.7637 - val_loss: 0.9769 - val_accuracy: 0.6740 - lr: 2.2877e-04\n",
            "Epoch 37/100\n",
            "359/359 [==============================] - 23s 63ms/step - loss: 0.6686 - accuracy: 0.7646 - val_loss: 0.9759 - val_accuracy: 0.6701 - lr: 2.2877e-04\n",
            "Epoch 38/100\n",
            "359/359 [==============================] - 20s 57ms/step - loss: 0.6573 - accuracy: 0.7678 - val_loss: 0.9705 - val_accuracy: 0.6639 - lr: 2.2877e-04\n",
            "Epoch 39/100\n",
            "359/359 [==============================] - 22s 60ms/step - loss: 0.6496 - accuracy: 0.7708 - val_loss: 1.0258 - val_accuracy: 0.6670 - lr: 2.2877e-04\n"
          ]
        }
      ],
      "source": [
        "# Perform data augmentation\n",
        "data_generator = ImageDataGenerator(featurewise_center=False,\n",
        "                                    featurewise_std_normalization=False,\n",
        "                                    rotation_range=10,\n",
        "                                    width_shift_range=0.1,\n",
        "                                    height_shift_range=0.1,\n",
        "                                    zoom_range=.1,\n",
        "                                    horizontal_flip=True)\n",
        "flow = data_generator.flow(x_train, \n",
        "                           y_train, \n",
        "                           batch_size=64)\n",
        "\n",
        "# Train the model again to balance out\n",
        "history = cnn_model.fit(flow,\n",
        "                        epochs=100,\n",
        "                        validation_data=(x_test, y_test),\n",
        "                        callbacks=[early_stopping, reduce_learning_rate])"
      ]
    },
    {
      "cell_type": "code",
      "execution_count": null,
      "metadata": {
        "colab": {
          "base_uri": "https://localhost:8080/"
        },
        "id": "Y2AOrT-64U32",
        "outputId": "9a0dad2b-6547-4d7d-943e-3eec33675a1d"
      },
      "outputs": [
        {
          "name": "stdout",
          "output_type": "stream",
          "text": [
            "180/180 [==============================] - 2s 10ms/step - loss: 1.0258 - accuracy: 0.6670\n",
            "Score after improvement: 0.6670149564743042\n"
          ]
        }
      ],
      "source": [
        "# Evaluate the model after improvement\n",
        "_, score_after_improvement = cnn_model.evaluate(x_test, y_test)\n",
        "print('Score after improvement: {}'.format(score_after_improvement))"
      ]
    },
    {
      "cell_type": "code",
      "execution_count": null,
      "metadata": {
        "colab": {
          "base_uri": "https://localhost:8080/",
          "height": 339
        },
        "id": "ScGq1yHXGHjS",
        "outputId": "d1b5285a-6f29-4244-ac4e-950250e83453"
      },
      "outputs": [
        {
          "name": "stdout",
          "output_type": "stream",
          "text": [
            "180/180 [==============================] - 1s 8ms/step\n"
          ]
        },
        {
          "data": {
            "image/png": "[encoded data removed]",
            "text/plain": [
              "<Figure size 432x288 with 1 Axes>"
            ]
          },
          "metadata": {},
          "output_type": "display_data"
        }
      ],
      "source": [
        "!pip install -U mlxtend > /dev/null 2>&1\n",
        "\n",
        "from mlxtend.plotting import plot_confusion_matrix\n",
        "from sklearn.metrics import confusion_matrix\n",
        "\n",
        "# Make predictions\n",
        "predictions = cnn_model.predict(x_test)\n",
        "y_predict = numpy.argmax(predictions, axis=1)\n",
        "\n",
        "# Create confusion matrix\n",
        "conf_matrix = confusion_matrix(y_test, y_predict)\n",
        "\n",
        "# Display confusion matrix\n",
        "class_names = ['Angry', 'Disgust', 'Fear', 'Happy', 'Sad', 'Surprise', 'Neutral']\n",
        "fig, ax = plot_confusion_matrix(conf_mat=conf_matrix, class_names=class_names)\n",
        "plt.title('Confusion Matrix')\n",
        "plt.show()"
      ]
    },
    {
      "cell_type": "code",
      "execution_count": null,
      "metadata": {
        "id": "-jpL_sHDDc3z"
      },
      "outputs": [],
      "source": [
        "from google.colab import files\n",
        "from IPython.display import display, Javascript\n",
        "from google.colab.output import eval_js\n",
        "from base64 import b64decode\n",
        "\n",
        "def take_photo(filename='photo.jpg', quality=0.8):\n",
        "  # Upload JPG file from computer\n",
        "  uploaded = files.upload()\n",
        "  if len(uploaded) > 0:\n",
        "    img_bytes = uploaded[list(uploaded.keys())[0]]\n",
        "    with open(filename, 'wb') as f:\n",
        "      f.write(img_bytes)\n",
        "    return filename\n",
        "  else:\n",
        "    return None"
      ]
    },
    {
      "cell_type": "code",
      "execution_count": null,
      "metadata": {
        "colab": {
          "base_uri": "https://localhost:8080/",
          "height": 91
        },
        "id": "nWs8sH6uEFsG",
        "outputId": "bc4c640e-3cc1-4bf9-b862-60ef81b895d2"
      },
      "outputs": [
        {
          "data": {
            "text/html": [
              "\n",
              "     <input type=\"file\" id=\"files-283ae3ee-fb74-4e75-b27f-2b2aa25d3560\" name=\"files[]\" multiple disabled\n",
              "        style=\"border:none\" />\n",
              "     <output id=\"result-283ae3ee-fb74-4e75-b27f-2b2aa25d3560\">\n",
              "      Upload widget is only available when the cell has been executed in the\n",
              "      current browser session. Please rerun this cell to enable.\n",
              "      </output>\n",
              "      <script>// Copyright 2017 Google LLC\n",
              "//\n",
              "// Licensed under the Apache License, Version 2.0 (the \"License\");\n",
              "// you may not use this file except in compliance with the License.\n",
              "// You may obtain a copy of the License at\n",
              "//\n",
              "//      http://www.apache.org/licenses/LICENSE-2.0\n",
              "//\n",
              "// Unless required by applicable law or agreed to in writing, software\n",
              "// distributed under the License is distributed on an \"AS IS\" BASIS,\n",
              "// WITHOUT WARRANTIES OR CONDITIONS OF ANY KIND, either express or implied.\n",
              "// See the License for the specific language governing permissions and\n",
              "// limitations under the License.\n",
              "\n",
              "/**\n",
              " * @fileoverview Helpers for google.colab Python module.\n",
              " */\n",
              "(function(scope) {\n",
              "function span(text, styleAttributes = {}) {\n",
              "  const element = document.createElement('span');\n",
              "  element.textContent = text;\n",
              "  for (const key of Object.keys(styleAttributes)) {\n",
              "    element.style[key] = styleAttributes[key];\n",
              "  }\n",
              "  return element;\n",
              "}\n",
              "\n",
              "// Max number of bytes which will be uploaded at a time.\n",
              "const MAX_PAYLOAD_SIZE = 100 * 1024;\n",
              "\n",
              "function _uploadFiles(inputId, outputId) {\n",
              "  const steps = uploadFilesStep(inputId, outputId);\n",
              "  const outputElement = document.getElementById(outputId);\n",
              "  // Cache steps on the outputElement to make it available for the next call\n",
              "  // to uploadFilesContinue from Python.\n",
              "  outputElement.steps = steps;\n",
              "\n",
              "  return _uploadFilesContinue(outputId);\n",
              "}\n",
              "\n",
              "// This is roughly an async generator (not supported in the browser yet),\n",
              "// where there are multiple asynchronous steps and the Python side is going\n",
              "// to poll for completion of each step.\n",
              "// This uses a Promise to block the python side on completion of each step,\n",
              "// then passes the result of the previous step as the input to the next step.\n",
              "function _uploadFilesContinue(outputId) {\n",
              "  const outputElement = document.getElementById(outputId);\n",
              "  const steps = outputElement.steps;\n",
              "\n",
              "  const next = steps.next(outputElement.lastPromiseValue);\n",
              "  return Promise.resolve(next.value.promise).then((value) => {\n",
              "    // Cache the last promise value to make it available to the next\n",
              "    // step of the generator.\n",
              "    outputElement.lastPromiseValue = value;\n",
              "    return next.value.response;\n",
              "  });\n",
              "}\n",
              "\n",
              "/**\n",
              " * Generator function which is called between each async step of the upload\n",
              " * process.\n",
              " * @param {string} inputId Element ID of the input file picker element.\n",
              " * @param {string} outputId Element ID of the output display.\n",
              " * @return {!Iterable<!Object>} Iterable of next steps.\n",
              " */\n",
              "function* uploadFilesStep(inputId, outputId) {\n",
              "  const inputElement = document.getElementById(inputId);\n",
              "  inputElement.disabled = false;\n",
              "\n",
              "  const outputElement = document.getElementById(outputId);\n",
              "  outputElement.innerHTML = '';\n",
              "\n",
              "  const pickedPromise = new Promise((resolve) => {\n",
              "    inputElement.addEventListener('change', (e) => {\n",
              "      resolve(e.target.files);\n",
              "    });\n",
              "  });\n",
              "\n",
              "  const cancel = document.createElement('button');\n",
              "  inputElement.parentElement.appendChild(cancel);\n",
              "  cancel.textContent = 'Cancel upload';\n",
              "  const cancelPromise = new Promise((resolve) => {\n",
              "    cancel.onclick = () => {\n",
              "      resolve(null);\n",
              "    };\n",
              "  });\n",
              "\n",
              "  // Wait for the user to pick the files.\n",
              "  const files = yield {\n",
              "    promise: Promise.race([pickedPromise, cancelPromise]),\n",
              "    response: {\n",
              "      action: 'starting',\n",
              "    }\n",
              "  };\n",
              "\n",
              "  cancel.remove();\n",
              "\n",
              "  // Disable the input element since further picks are not allowed.\n",
              "  inputElement.disabled = true;\n",
              "\n",
              "  if (!files) {\n",
              "    return {\n",
              "      response: {\n",
              "        action: 'complete',\n",
              "      }\n",
              "    };\n",
              "  }\n",
              "\n",
              "  for (const file of files) {\n",
              "    const li = document.createElement('li');\n",
              "    li.append(span(file.name, {fontWeight: 'bold'}));\n",
              "    li.append(span(\n",
              "        `(${file.type || 'n/a'}) - ${file.size} bytes, ` +\n",
              "        `last modified: ${\n",
              "            file.lastModifiedDate ? file.lastModifiedDate.toLocaleDateString() :\n",
              "                                    'n/a'} - `));\n",
              "    const percent = span('0% done');\n",
              "    li.appendChild(percent);\n",
              "\n",
              "    outputElement.appendChild(li);\n",
              "\n",
              "    const fileDataPromise = new Promise((resolve) => {\n",
              "      const reader = new FileReader();\n",
              "      reader.onload = (e) => {\n",
              "        resolve(e.target.result);\n",
              "      };\n",
              "      reader.readAsArrayBuffer(file);\n",
              "    });\n",
              "    // Wait for the data to be ready.\n",
              "    let fileData = yield {\n",
              "      promise: fileDataPromise,\n",
              "      response: {\n",
              "        action: 'continue',\n",
              "      }\n",
              "    };\n",
              "\n",
              "    // Use a chunked sending to avoid message size limits. See b/62115660.\n",
              "    let position = 0;\n",
              "    do {\n",
              "      const length = Math.min(fileData.byteLength - position, MAX_PAYLOAD_SIZE);\n",
              "      const chunk = new Uint8Array(fileData, position, length);\n",
              "      position += length;\n",
              "\n",
              "      const base64 = btoa(String.fromCharCode.apply(null, chunk));\n",
              "      yield {\n",
              "        response: {\n",
              "          action: 'append',\n",
              "          file: file.name,\n",
              "          data: base64,\n",
              "        },\n",
              "      };\n",
              "\n",
              "      let percentDone = fileData.byteLength === 0 ?\n",
              "          100 :\n",
              "          Math.round((position / fileData.byteLength) * 100);\n",
              "      percent.textContent = `${percentDone}% done`;\n",
              "\n",
              "    } while (position < fileData.byteLength);\n",
              "  }\n",
              "\n",
              "  // All done.\n",
              "  yield {\n",
              "    response: {\n",
              "      action: 'complete',\n",
              "    }\n",
              "  };\n",
              "}\n",
              "\n",
              "scope.google = scope.google || {};\n",
              "scope.google.colab = scope.google.colab || {};\n",
              "scope.google.colab._files = {\n",
              "  _uploadFiles,\n",
              "  _uploadFilesContinue,\n",
              "};\n",
              "})(self);\n",
              "</script> "
            ],
            "text/plain": [
              "<IPython.core.display.HTML object>"
            ]
          },
          "metadata": {},
          "output_type": "display_data"
        },
        {
          "name": "stdout",
          "output_type": "stream",
          "text": [
            "Saving 16578421-photo-of-adorable-young-happy-boy-looking-at-camera- (1).jpg to 16578421-photo-of-adorable-young-happy-boy-looking-at-camera- (1).jpg\n"
          ]
        },
        {
          "data": {
            "application/vnd.google.colaboratory.intrinsic+json": {
              "type": "string"
            },
            "text/plain": [
              "'photo.jpg'"
            ]
          },
          "execution_count": 45,
          "metadata": {},
          "output_type": "execute_result"
        }
      ],
      "source": [
        "take_photo()"
      ]
    },
    {
      "cell_type": "code",
      "execution_count": null,
      "metadata": {
        "id": "0sy6kqX3csle"
      },
      "outputs": [],
      "source": [
        "from tensorflow.keras.preprocessing import image\n",
        "\n",
        "def predict_facial_expression(image_path):\n",
        "    \"\"\"Predict facial expression for image\"\"\"\n",
        "    # Open image\n",
        "    rgb_image = image.load_img(path=image_path,\n",
        "                            color_mode='grayscale',\n",
        "                            target_size=(48, 48))\n",
        "    # Convert to array\n",
        "    rgb_array = image.img_to_array(rgb_image)\n",
        "    rgb_array = numpy.expand_dims(rgb_array, axis=0)\n",
        "\n",
        "    # Show image\n",
        "    rgb_display = numpy.array(rgb_array, 'float32')\n",
        "    rgb_display = rgb_display.reshape([48, 48]);\n",
        "    plt.imshow(rgb_display, cmap='gray')\n",
        "    plt.show()\n",
        "\n",
        "    # Make predictions\n",
        "    rgb_array = rgb_array / 255.0\n",
        "    prediction = cnn_model.predict(rgb_array)\n",
        "\n",
        "    # Draw the histogram\n",
        "    plt.bar(y_pos, prediction[0], align='center', alpha=0.5)\n",
        "    plt.xticks(y_pos, categories)\n",
        "    plt.ylabel('Percentage')\n",
        "    plt.title('Facial Expression Prediction')\n",
        "    plt.show()"
      ]
    },
    {
      "cell_type": "code",
      "execution_count": null,
      "metadata": {
        "colab": {
          "base_uri": "https://localhost:8080/",
          "height": 548
        },
        "id": "9bdfjK_iCH5C",
        "outputId": "0b8c5023-861f-48b1-aea8-1d852d4bad34"
      },
      "outputs": [
        {
          "data": {
            "image/png": "[encoded data removed]",
            "text/plain": [
              "<Figure size 432x288 with 1 Axes>"
            ]
          },
          "metadata": {},
          "output_type": "display_data"
        },
        {
          "name": "stdout",
          "output_type": "stream",
          "text": [
            "1/1 [==============================] - 0s 58ms/step\n"
          ]
        },
        {
          "data": {
            "image/png": "[encoded data removed]",
            "text/plain": [
              "<Figure size 432x288 with 1 Axes>"
            ]
          },
          "metadata": {},
          "output_type": "display_data"
        }
      ],
      "source": [
        "predict_facial_expression('photo.jpg')"
      ]
    }
  ],
  "metadata": {
    "accelerator": "GPU",
    "colab": {
      "provenance": [],
      "include_colab_link": true
    },
    "gpuClass": "standard",
    "kernelspec": {
      "display_name": "Python 3",
      "name": "python3"
    },
    "language_info": {
      "name": "python"
    }
  },
  "nbformat": 4,
  "nbformat_minor": 0
}